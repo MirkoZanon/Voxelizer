{
 "cells": [
  {
   "cell_type": "markdown",
   "metadata": {},
   "source": [
    "You should have **analyis.py** in your pyhton working folder (download it here https://github.com/khalednasr/nn-numerosity-zero)."
   ]
  },
  {
   "cell_type": "code",
   "execution_count": 2,
   "metadata": {},
   "outputs": [],
   "source": [
    "import pandas as pd\n",
    "import numpy as np\n",
    "import os\n",
    "\n",
    "import matplotlib\n",
    "import matplotlib.pyplot as plt\n",
    "from matplotlib.ticker import ScalarFormatter\n",
    "\n",
    "import analysis"
   ]
  },
  {
   "cell_type": "code",
   "execution_count": 65,
   "metadata": {},
   "outputs": [
    {
     "name": "stdout",
     "output_type": "stream",
     "text": [
      "\n",
      "ANALYSING Hz09_casper_h2bcamp7f_7dpf.csv\n",
      "\n",
      "Number of anova cells for Hz09_casper_h2bcamp7f_7dpf.csv = 435 (78.38%)\n",
      "(5, 435)\n",
      "(5, 435)\n"
     ]
    },
    {
     "name": "stderr",
     "output_type": "stream",
     "text": [
      "/opt/anaconda3/envs/voxelizer/lib/python3.10/site-packages/numpy/core/fromnumeric.py:3504: RuntimeWarning: Mean of empty slice.\n",
      "  return _methods._mean(a, axis=axis, dtype=dtype,\n",
      "/opt/anaconda3/envs/voxelizer/lib/python3.10/site-packages/numpy/core/_methods.py:121: RuntimeWarning: invalid value encountered in divide\n",
      "  ret = um.true_divide(\n",
      "/opt/anaconda3/envs/voxelizer/lib/python3.10/site-packages/numpy/core/_methods.py:206: RuntimeWarning: Degrees of freedom <= 0 for slice\n",
      "  ret = _var(a, axis=axis, dtype=dtype, out=out, ddof=ddof,\n",
      "/opt/anaconda3/envs/voxelizer/lib/python3.10/site-packages/numpy/core/_methods.py:163: RuntimeWarning: invalid value encountered in divide\n",
      "  arrmean = um.true_divide(arrmean, div, out=arrmean,\n",
      "/opt/anaconda3/envs/voxelizer/lib/python3.10/site-packages/numpy/core/_methods.py:195: RuntimeWarning: invalid value encountered in divide\n",
      "  ret = um.true_divide(\n",
      "/opt/anaconda3/envs/voxelizer/lib/python3.10/site-packages/matplotlib/axes/_base.py:2503: UserWarning: Warning: converting a masked element to nan.\n",
      "  xys = np.asarray(xys)\n"
     ]
    },
    {
     "data": {
      "image/png": "[encoded data removed]",
      "text/plain": [
       "<Figure size 300x300 with 1 Axes>"
      ]
     },
     "metadata": {},
     "output_type": "display_data"
    },
    {
     "data": {
      "image/png": "[encoded data removed]",
      "text/plain": [
       "<Figure size 800x275 with 2 Axes>"
      ]
     },
     "metadata": {},
     "output_type": "display_data"
    }
   ],
   "source": [
    "folder = '/Users/mirckuz/Desktop/20230601_Hz09_casper_h2bcamp7f_7dpf_60Z_1hzvol_2P_1v2v3v4v5_processed'\n",
    "analyze_SV_or_Imaris = 1 # 0 for Super Voxel analysis, 1 for Imaris spot analysis\n",
    "\n",
    "#set directory depending on type of analysis (SV based or Imaris based)\n",
    "if analyze_SV_or_Imaris == 0:\n",
    "    path = folder+'/voxelizer_final_datasets/mask_small'\n",
    "    os.chdir(path)\n",
    "elif analyze_SV_or_Imaris == 1:\n",
    "    path = folder+'/imaris_final_datasets'\n",
    "    os.chdir(path)\n",
    "# Configuration parameters\n",
    "Qrange = np.array([0,1,2,3,4]) # range of tested numerosities\n",
    "colors = ['red', 'orange', 'green', 'blue', 'purple'] # plotting colors for numerosities in Qrange\n",
    "matplotlib.rcParams.update({'font.size': 7.65}) # plot font size\n",
    "\n",
    "for file in os.listdir(path):\n",
    "    if file.startswith('.'):\n",
    "        continue\n",
    "    print('\\nANALYSING '+file+'\\n')\n",
    "    arr = np.loadtxt(file, delimiter=\",\")\n",
    "    C = arr[:,0]#.astype(float).astype(int)\n",
    "    Q = arr[:,1]#.astype(float).astype(int)\n",
    "    Hf = arr[:,2:]\n",
    "\n",
    "    # Find numorosity selective units (anova_cells) using a two-way ANOVA\n",
    "    pN, pC, pNC = analysis.anova_two_way(Q, C, Hf)\n",
    "    anova_cells = np.where((pN<0.01) & (pNC>0.01) & (pC>0.01))[0]\n",
    "    R = Hf[:,anova_cells]\n",
    "\n",
    "    # Calculate and plot ditribution of preferred numerosities\n",
    "    pref_num = analysis.preferred_numerosity(Q, R)\n",
    "    hist = [np.sum(pref_num==q) for q in Qrange]\n",
    "    hist /= np.sum(hist)\n",
    "\n",
    "\n",
    "    print('Number of anova cells for '+file+' = %i (%0.2f%%)'%(len(anova_cells), 100*len(anova_cells)/Hf.shape[1]))\n",
    "    plt.figure(figsize=(3,3))\n",
    "    plt.bar(Qrange, 100*hist, width=0.8, color=colors)\n",
    "    plt.xlabel('Preferred Numerosity')\n",
    "    plt.ylabel('Percentage of cells')\n",
    "    plt.show\n",
    "\n",
    "    # 1.Calculate average tuning curve of each unit\n",
    "    tuning_curves = analysis.average_tuning_curves(Q, R)\n",
    "\n",
    "    ### why not normalizing here????????\n",
    "    # minim = np.repeat(np.min(tuning_curves, axis=0),tuning_curves.shape[0]).reshape(tuning_curves.shape[1],5).T\n",
    "    # maxim = np.repeat(np.max(tuning_curves, axis=0),tuning_curves.shape[0]).reshape(tuning_curves.shape[1],5).T\n",
    "    # print(tuning_curves.shape)\n",
    "    # print(minim.shape)\n",
    "    # tuning_curvesN = tuning_curves-minim/(maxim+minim)\n",
    "\n",
    "    # 2.Calculate population tuning curves for each preferred numerosity\n",
    "    tuning_mat = np.array([np.mean(tuning_curves[:,pref_num==q], axis=1) for q in Qrange]) # one row for each pref numerosity\n",
    "    tuning_err = np.array([np.std(tuning_curves[:,pref_num==q], axis=1) / np.sqrt(np.sum(pref_num==q)) # standard error for each point on each tuning curve\n",
    "                        for q in Qrange])\n",
    "\n",
    "    # 3.Normalize population tuning curves to the 0-1 range\n",
    "    tmmin = tuning_mat.min(axis=1)[:,None]\n",
    "    tmmax = tuning_mat.max(axis=1)[:,None]\n",
    "    tuning_mat = (tuning_mat-tmmin) / (tmmax-tmmin)\n",
    "    tuning_err = tuning_err / (tmmax-tmmin) # scale standard error to be consistent with above normalization\n",
    "\n",
    "    # Plot population tuning curves on linear scale\n",
    "    plt.figure(figsize=(8,2.75))\n",
    "    plt.subplot(1,2,1)\n",
    "    for i, (tc, err) in enumerate(zip(tuning_mat, tuning_err)):\n",
    "        plt.errorbar(Qrange, tc, err, color=colors[i])\n",
    "        plt.xticks(Qrange)\n",
    "    plt.xlabel('Numerosity')\n",
    "    plt.ylabel('Normalized Neural Activity')\n",
    "\n",
    "    # Plot population tuning curves on log scale\n",
    "    plt.subplot(1,2,2)\n",
    "    for i, (tc, err) in enumerate(zip(tuning_mat, tuning_err)):\n",
    "        plt.errorbar(Qrange+1, tc, err, color=colors[i]) # offset x axis by one to avoid taking the log of zero\n",
    "        plt.xscale('log', base=2)\n",
    "        plt.gca().xaxis.set_major_formatter(ScalarFormatter())\n",
    "        plt.xticks(ticks=Qrange+1, labels=Qrange)\n",
    "    plt.xlabel('Numerosity')\n",
    "    plt.ylabel('Normalized Neural Activity')\n",
    "    plt.show\n"
   ]
  }
 ],
 "metadata": {
  "kernelspec": {
   "display_name": "voxelizer",
   "language": "python",
   "name": "python3"
  },
  "language_info": {
   "codemirror_mode": {
    "name": "ipython",
    "version": 3
   },
   "file_extension": ".py",
   "mimetype": "text/x-python",
   "name": "python",
   "nbconvert_exporter": "python",
   "pygments_lexer": "ipython3",
   "version": "3.10.11"
  },
  "orig_nbformat": 4
 },
 "nbformat": 4,
 "nbformat_minor": 2
}
