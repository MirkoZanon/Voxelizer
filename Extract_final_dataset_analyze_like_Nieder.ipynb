{
 "cells": [
  {
   "attachments": {},
   "cell_type": "markdown",
   "id": "316c0397",
   "metadata": {},
   "source": [
    "# You need to use numan kernel!!"
   ]
  },
  {
   "cell_type": "code",
   "execution_count": 2,
   "id": "c6a96b9d",
   "metadata": {},
   "outputs": [],
   "source": [
    "import vodex as vx\n",
    "import numan as nu\n",
    "import Voxelizer\n",
    "import pandas as pd\n",
    "import numpy as np\n",
    "import os\n",
    "\n",
    "import matplotlib\n",
    "import matplotlib.pyplot as plt\n",
    "from matplotlib.ticker import ScalarFormatter\n",
    "import seaborn as sns\n",
    "\n",
    "import models, analysis"
   ]
  },
  {
   "cell_type": "code",
   "execution_count": 2,
   "id": "d2d652c7",
   "metadata": {},
   "outputs": [],
   "source": [
    "base_folder = \"/Volumes/Group Share/Neuroanalysis/Numerosity/1v2v3v4v5_H2B/\"\n",
    "folders = [base_folder + \"20230207_hb01_casper_h2bcamp7f_5dpf_2P_1v2v3v4v5_processed\",\n",
    "           base_folder + \"20230209_hb03_casper_h2bcamp7f_7dpf_2P_1v2v3v4v5_1_processed\",\n",
    "           base_folder + \"20230209_hb04_casper_h2bcamp7f_7dpf_2P_1v2v3v4v5_1_processed\",\n",
    "           base_folder + \"20230207_hb07_casper_h2bcamp7f_5dpf_2P_1v2v3v4v5_1_processed\",\n",
    "           base_folder + \"20230301_hb08_casper_h2bcamp7f_5dpf_2P_1v2v3v4v5_1_processed\",\n",
    "           base_folder + \"20230301_hb09_casper_h2bcamp7f_5dpf_2P_1v2v3v4v5_1_processed\",\n",
    "           base_folder + \"20230303_hb10_casper_h2bcamp7f_7dpf_2P_1v2v3v4v5_1_processed\",\n",
    "           base_folder + \"20230303_hb11_casper_h2bcamp7f_7dpf_2P_1v2v3v4v5_1_processed\",\n",
    "           base_folder + \"20230303_hb12_casper_h2bcamp7f_7dpf_2P_1v2v3v4v5_1_processed\"]"
   ]
  },
  {
   "attachments": {},
   "cell_type": "markdown",
   "id": "7546f8aa",
   "metadata": {},
   "source": [
    "# Loop to merge all cells from different sample. Note: this will work only if the presentation modality is the same, always same order and numebr of presenatation (trials)!!!!"
   ]
  },
  {
   "cell_type": "code",
   "execution_count": 4,
   "id": "394c97d9",
   "metadata": {},
   "outputs": [
    {
     "name": "stdout",
     "output_type": "stream",
     "text": [
      "Processing: /Volumes/Group Share/Neuroanalysis/Numerosity/1v2v3v4v5_H2B/20230207_hb01_casper_h2bcamp7f_5dpf_2P_1v2v3v4v5_processed\n",
      "cells X trials: (141, 240)\n",
      "\n",
      "Processing: /Volumes/Group Share/Neuroanalysis/Numerosity/1v2v3v4v5_H2B/20230209_hb03_casper_h2bcamp7f_7dpf_2P_1v2v3v4v5_1_processed\n",
      "cells X trials: (93, 240)\n",
      "\n",
      "Processing: /Volumes/Group Share/Neuroanalysis/Numerosity/1v2v3v4v5_H2B/20230209_hb04_casper_h2bcamp7f_7dpf_2P_1v2v3v4v5_1_processed\n",
      "cells X trials: (86, 240)\n",
      "\n",
      "Processing: /Volumes/Group Share/Neuroanalysis/Numerosity/1v2v3v4v5_H2B/20230207_hb07_casper_h2bcamp7f_5dpf_2P_1v2v3v4v5_1_processed\n"
     ]
    },
    {
     "ename": "FileNotFoundError",
     "evalue": "[Errno 2] No such file or directory: '/Volumes/Group Share/Neuroanalysis/Numerosity/1v2v3v4v5_H2B/20230207_hb07_casper_h2bcamp7f_5dpf_2P_1v2v3v4v5_1_processed/processed/'",
     "output_type": "error",
     "traceback": [
      "\u001b[0;31m---------------------------------------------------------------------------\u001b[0m",
      "\u001b[0;31mFileNotFoundError\u001b[0m                         Traceback (most recent call last)",
      "Cell \u001b[0;32mIn[4], line 4\u001b[0m\n\u001b[1;32m      2\u001b[0m \u001b[38;5;28mprint\u001b[39m(\u001b[38;5;124m'\u001b[39m\u001b[38;5;124mProcessing: \u001b[39m\u001b[38;5;124m'\u001b[39m\u001b[38;5;241m+\u001b[39mf)\n\u001b[1;32m      3\u001b[0m project_folder \u001b[38;5;241m=\u001b[39m f\n\u001b[0;32m----> 4\u001b[0m \u001b[43mos\u001b[49m\u001b[38;5;241;43m.\u001b[39;49m\u001b[43mchdir\u001b[49m\u001b[43m(\u001b[49m\u001b[43mf\u001b[49m\u001b[38;5;241;43m+\u001b[39;49m\u001b[38;5;124;43m'\u001b[39;49m\u001b[38;5;124;43m/processed/\u001b[39;49m\u001b[38;5;124;43m'\u001b[39;49m\u001b[43m)\u001b[49m\n\u001b[1;32m      6\u001b[0m my_spots \u001b[38;5;241m=\u001b[39m nu\u001b[38;5;241m.\u001b[39mSpots\u001b[38;5;241m.\u001b[39mfrom_json(\u001b[38;5;124m\"\u001b[39m\u001b[38;5;124mspots/signals/spots_SvB_max.json\u001b[39m\u001b[38;5;124m\"\u001b[39m)\n\u001b[1;32m      7\u001b[0m dff \u001b[38;5;241m=\u001b[39m my_spots\u001b[38;5;241m.\u001b[39msignals\u001b[38;5;241m.\u001b[39mas_dff(\u001b[38;5;241m15\u001b[39m)\n",
      "\u001b[0;31mFileNotFoundError\u001b[0m: [Errno 2] No such file or directory: '/Volumes/Group Share/Neuroanalysis/Numerosity/1v2v3v4v5_H2B/20230207_hb07_casper_h2bcamp7f_5dpf_2P_1v2v3v4v5_1_processed/processed/'"
     ]
    }
   ],
   "source": [
    "for count,f in enumerate(folders):\n",
    "    print('Processing: '+f)\n",
    "    project_folder = f\n",
    "    os.chdir(f+'/processed/')\n",
    "\n",
    "    my_spots = nu.Spots.from_json(\"spots/signals/spots_SvB_max.json\")\n",
    "    dff = my_spots.signals.as_dff(15)\n",
    "    signals = dff.traces.T\n",
    "    #print(signals.shape)\n",
    "    \n",
    "    experiment = vx.Experiment.load(\"experiment_w_covariates_raw.db\")\n",
    "    stim_volumes = experiment.choose_volumes([(\"number\",\"d1\"), (\"number\",\"d2\"), (\"number\",\"d3\"),(\"number\",\"d4\"), (\"number\",\"d5\")], logic = \"or\")\n",
    "    stim_signal=signals[:,stim_volumes]\n",
    "    print('cells X trials: ' + str(stim_signal.shape)+'\\n')\n",
    "    \n",
    "    annotation_dict2= {f\"cell_{ic}\": stim_signal[ic] for ic in np.arange(len(signals))}\n",
    "    annotation_dict=experiment.get_volume_annotations(stim_volumes)\n",
    "    annotation_dict.update(annotation_dict2)\n",
    "    annotation_df=pd.DataFrame(annotation_dict)\n",
    "    #print(annotation_df.shape)\n",
    "    \n",
    "    Hf = np.array(annotation_df.iloc[:, 4:annotation_df.shape[1]])\n",
    "    if count==0:\n",
    "        final_Hf = Hf\n",
    "    else:\n",
    "        final_Hf = np.append(final_Hf, Hf, 1)\n",
    "print('Total trials X cells: ' + str(final_Hf.shape))\n",
    "\n",
    "Q_pd = pd.factorize(annotation_df['number'], sort=True)\n",
    "labelQ = Q_pd[1]\n",
    "print(labelQ)\n",
    "Q = np.array(Q_pd[0])\n",
    "#print(Q)\n",
    "print(Q.shape)\n",
    "\n",
    "C_pd = pd.factorize((annotation_df['shape']+ annotation_df['spread']), sort=True)\n",
    "#C_pd = pd.factorize((annotation_df['shape']), sort=True)\n",
    "labelC = C_pd[1]\n",
    "print(labelC)\n",
    "C = np.array(C_pd[0])\n",
    "#print(C)\n",
    "print(C.shape)\n",
    "\n",
    "#/Volumes/Group Share/Neuroanalysis/Numerosity/1v2v3v4v5_H2B/20230207_hb02_casper_h2bcamp7f_5dpf_2P_1v2v3v4v5_1_processed"
   ]
  },
  {
   "attachments": {},
   "cell_type": "markdown",
   "id": "ba753e37",
   "metadata": {},
   "source": [
    "## run this if you want to save final data matrix"
   ]
  },
  {
   "cell_type": "code",
   "execution_count": 21,
   "id": "d2f375f1",
   "metadata": {},
   "outputs": [],
   "source": [
    "final_labels = np.stack((C,Q),axis=1)\n",
    "total_df = np.concatenate((final_labels, final_Hf),axis=1)\n",
    "total_df.shape\n",
    "np.savetxt('/Users/mirckuz/Desktop/stimulus_final_table.csv', total_df, delimiter=',')"
   ]
  },
  {
   "attachments": {},
   "cell_type": "markdown",
   "id": "93291ae7",
   "metadata": {},
   "source": [
    "# Nieder's analysis"
   ]
  },
  {
   "cell_type": "code",
   "execution_count": 22,
   "id": "146a895d",
   "metadata": {},
   "outputs": [],
   "source": [
    "# Configuration parameters\n",
    "\n",
    "Qrange = np.array([0,1,2,3,4]) # range of tested numerosities\n",
    "colors = ['red', 'orange', 'green', 'blue', 'purple'] # plotting colors for numerosities in Qrange\n",
    "\n",
    "matplotlib.rcParams.update({'font.size': 7.65}) # plot font size"
   ]
  },
  {
   "cell_type": "code",
   "execution_count": 23,
   "id": "ac3b9a5e",
   "metadata": {},
   "outputs": [],
   "source": [
    "# Find numorosity selective units (anova_cells) using a two-way ANOVA\n",
    "pN, pC, pNC = analysis.anova_two_way(Q, C, Hf)\n",
    "anova_cells = np.where((pN<0.01) & (pNC>0.01) & (pC>0.01))[0]\n",
    "R = Hf[:,anova_cells]"
   ]
  },
  {
   "cell_type": "code",
   "execution_count": 24,
   "id": "3b1eee29",
   "metadata": {},
   "outputs": [
    {
     "name": "stdout",
     "output_type": "stream",
     "text": [
      "Number of anova cells = 103 (82.40%)\n"
     ]
    },
    {
     "data": {
      "image/png": "[encoded data removed]",
      "text/plain": [
       "<Figure size 300x300 with 1 Axes>"
      ]
     },
     "metadata": {},
     "output_type": "display_data"
    }
   ],
   "source": [
    "# Calculate and plot ditribution of preferred numerosities\n",
    "pref_num = analysis.preferred_numerosity(Q, R)\n",
    "hist = [np.sum(pref_num==q) for q in Qrange]\n",
    "hist /= np.sum(hist)\n",
    "\n",
    "plt.figure(figsize=(3,3))\n",
    "plt.bar(Qrange, 100*hist, width=0.8, color=colors)\n",
    "plt.xlabel('Preferred Numerosity')\n",
    "plt.ylabel('Percentage of cells')\n",
    "print('Number of anova cells = %i (%0.2f%%)'%(len(anova_cells), 100*len(anova_cells)/Hf.shape[1]))"
   ]
  },
  {
   "cell_type": "code",
   "execution_count": 25,
   "id": "3f9319dc",
   "metadata": {},
   "outputs": [
    {
     "name": "stderr",
     "output_type": "stream",
     "text": [
      "/opt/anaconda3/envs/Imaging/lib/python3.8/site-packages/numpy/core/fromnumeric.py:3464: RuntimeWarning: Mean of empty slice.\n",
      "  return _methods._mean(a, axis=axis, dtype=dtype,\n",
      "/opt/anaconda3/envs/Imaging/lib/python3.8/site-packages/numpy/core/_methods.py:184: RuntimeWarning: invalid value encountered in divide\n",
      "  ret = um.true_divide(\n",
      "/opt/anaconda3/envs/Imaging/lib/python3.8/site-packages/numpy/core/_methods.py:269: RuntimeWarning: Degrees of freedom <= 0 for slice\n",
      "  ret = _var(a, axis=axis, dtype=dtype, out=out, ddof=ddof,\n",
      "/opt/anaconda3/envs/Imaging/lib/python3.8/site-packages/numpy/core/_methods.py:226: RuntimeWarning: invalid value encountered in divide\n",
      "  arrmean = um.true_divide(arrmean, div, out=arrmean,\n",
      "/opt/anaconda3/envs/Imaging/lib/python3.8/site-packages/numpy/core/_methods.py:258: RuntimeWarning: invalid value encountered in divide\n",
      "  ret = um.true_divide(\n",
      "/opt/anaconda3/envs/Imaging/lib/python3.8/site-packages/matplotlib/axes/_base.py:2503: UserWarning: Warning: converting a masked element to nan.\n",
      "  xys = np.asarray(xys)\n"
     ]
    },
    {
     "data": {
      "text/plain": [
       "Text(0, 0.5, 'Normalized Neural Activity')"
      ]
     },
     "execution_count": 25,
     "metadata": {},
     "output_type": "execute_result"
    },
    {
     "data": {
      "image/png": "[encoded data removed]",
      "text/plain": [
       "<Figure size 800x275 with 2 Axes>"
      ]
     },
     "metadata": {},
     "output_type": "display_data"
    }
   ],
   "source": [
    "# Calculate average tuning curve of each unit\n",
    "tuning_curves = analysis.average_tuning_curves(Q, R) \n",
    "\n",
    "# Calculate population tuning curves for each preferred numerosity\n",
    "tuning_mat = np.array([np.mean(tuning_curves[:,pref_num==q], axis=1) for q in Qrange]) # one row for each pref numerosity\n",
    "tuning_err = np.array([np.std(tuning_curves[:,pref_num==q], axis=1) / np.sqrt(np.sum(pref_num==q)) # standard error for each point on each tuning curve\n",
    "                       for q in Qrange])\n",
    "\n",
    "# Normalize population tuning curves to the 0-1 range\n",
    "tmmin = tuning_mat.min(axis=1)[:,None]\n",
    "tmmax = tuning_mat.max(axis=1)[:,None]\n",
    "tuning_mat = (tuning_mat-tmmin) / (tmmax-tmmin)\n",
    "tuning_err = tuning_err / (tmmax-tmmin) # scale standard error to be consistent with above normalization\n",
    "\n",
    "# Plot population tuning curves on linear scale\n",
    "plt.figure(figsize=(8,2.75))\n",
    "plt.subplot(1,2,1)\n",
    "for i, (tc, err) in enumerate(zip(tuning_mat, tuning_err)):\n",
    "    plt.errorbar(Qrange, tc, err, color=colors[i])\n",
    "    plt.xticks(Qrange)\n",
    "plt.xlabel('Numerosity')\n",
    "plt.ylabel('Normalized Neural Activity')\n",
    "\n",
    "# Plot population tuning curves on log scale\n",
    "plt.subplot(1,2,2)\n",
    "for i, (tc, err) in enumerate(zip(tuning_mat, tuning_err)):\n",
    "    plt.errorbar(Qrange+1, tc, err, color=colors[i]) # offset x axis by one to avoid taking the log of zero\n",
    "    plt.xscale('log', base=2)\n",
    "    plt.gca().xaxis.set_major_formatter(ScalarFormatter())\n",
    "    plt.xticks(ticks=Qrange+1, labels=Qrange)\n",
    "plt.xlabel('Numerosity')\n",
    "plt.ylabel('Normalized Neural Activity')"
   ]
  }
 ],
 "metadata": {
  "kernelspec": {
   "display_name": "voxelizer",
   "language": "python",
   "name": "python3"
  },
  "language_info": {
   "codemirror_mode": {
    "name": "ipython",
    "version": 3
   },
   "file_extension": ".py",
   "mimetype": "text/x-python",
   "name": "python",
   "nbconvert_exporter": "python",
   "pygments_lexer": "ipython3",
   "version": "3.10.11"
  }
 },
 "nbformat": 4,
 "nbformat_minor": 5
}
