{
 "cells": [
  {
   "cell_type": "code",
   "execution_count": 1,
   "id": "5a17f07e-e09c-4fba-9b41-87ffe1d7bfaa",
   "metadata": {
    "pycharm": {
     "name": "#%%\n"
    }
   },
   "outputs": [
    {
     "ename": "ModuleNotFoundError",
     "evalue": "No module named 'patchify'",
     "output_type": "error",
     "traceback": [
      "\u001b[0;31m---------------------------------------------------------------------------\u001b[0m",
      "\u001b[0;31mModuleNotFoundError\u001b[0m                       Traceback (most recent call last)",
      "Cell \u001b[0;32mIn[1], line 6\u001b[0m\n\u001b[1;32m      4\u001b[0m \u001b[38;5;28;01mimport\u001b[39;00m \u001b[38;5;21;01mvodex\u001b[39;00m \u001b[38;5;28;01mas\u001b[39;00m \u001b[38;5;21;01mvx\u001b[39;00m\n\u001b[1;32m      5\u001b[0m \u001b[38;5;28;01mimport\u001b[39;00m \u001b[38;5;21;01mnuman\u001b[39;00m \u001b[38;5;28;01mas\u001b[39;00m \u001b[38;5;21;01mnu\u001b[39;00m\n\u001b[0;32m----> 6\u001b[0m \u001b[38;5;28;01mimport\u001b[39;00m \u001b[38;5;21;01mpatchify\u001b[39;00m \u001b[38;5;28;01mas\u001b[39;00m \u001b[38;5;21;01mptc\u001b[39;00m\n",
      "\u001b[0;31mModuleNotFoundError\u001b[0m: No module named 'patchify'"
     ]
    }
   ],
   "source": [
    "import numpy as np\n",
    "import os\n",
    "\n",
    "import vodex as vx\n",
    "import numan as nu\n",
    "import patchify as ptc"
   ]
  },
  {
   "cell_type": "code",
   "execution_count": 6,
   "id": "bddc2f82",
   "metadata": {},
   "outputs": [],
   "source": [
    "class Voxelizer:\n",
    "    \n",
    "    def __init__(mask_file, superVoxel_size, roi_id):\n",
    "        self.SV_size = superVoxel_size\n",
    "        self.mask = self.load_mask(mask_file)\n",
    "        self.roi_id = roi_id\n",
    "        self.SV_mask = self.get_mask_in_SV()\n",
    "        \n",
    "    def load_mask(mask_file):\n",
    "        return\n",
    "    \n",
    "    def get_mask_in_SV():\n",
    "        return\n",
    "    \n",
    "    def process_movie(experiment):\n",
    "        return\n",
    "    \n",
    "    def _load_batch():\n",
    "        return\n",
    "    \n",
    "    def _mask_by_boundingBox():\n",
    "        return\n",
    "        "
   ]
  },
  {
   "cell_type": "code",
   "execution_count": null,
   "id": "ca852572",
   "metadata": {},
   "outputs": [],
   "source": [
    "path = \"\"\n",
    "mask_file = \"\"\n",
    "superVoxel_size = [1,1,1]\n",
    "roi_id = [1,2,3,4]\n",
    "\n",
    "experiment = vx.Experiment.from_dir(path)\n",
    "\n",
    "voxelizer = Voxelizer(mask_file, superVoxel_size, roi_id)\n",
    "voxelizer.process_movie(experiment)"
   ]
  }
 ],
 "metadata": {
  "kernelspec": {
   "display_name": "numan",
   "language": "python",
   "name": "numan"
  },
  "language_info": {
   "codemirror_mode": {
    "name": "ipython",
    "version": 3
   },
   "file_extension": ".py",
   "mimetype": "text/x-python",
   "name": "python",
   "nbconvert_exporter": "python",
   "pygments_lexer": "ipython3",
   "version": "3.8.16"
  }
 },
 "nbformat": 4,
 "nbformat_minor": 5
}
