{
 "cells": [
  {
   "cell_type": "code",
   "execution_count": 1,
   "id": "5a17f07e-e09c-4fba-9b41-87ffe1d7bfaa",
   "metadata": {
    "pycharm": {
     "name": "#%%\n"
    }
   },
   "outputs": [],
   "source": [
    "import numpy as np\n",
    "import os\n",
    "\n",
    "# data manager and analysis\n",
    "import vodex as vx\n",
    "import numan as nu"
   ]
  }
 ],
 "metadata": {
  "kernelspec": {
   "display_name": "numan",
   "language": "python",
   "name": "numan"
  },
  "language_info": {
   "codemirror_mode": {
    "name": "ipython",
    "version": 3
   },
   "file_extension": ".py",
   "mimetype": "text/x-python",
   "name": "python",
   "nbconvert_exporter": "python",
   "pygments_lexer": "ipython3",
   "version": "3.8.16"
  }
 },
 "nbformat": 4,
 "nbformat_minor": 5
}
