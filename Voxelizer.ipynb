{
 "cells": [
  {
   "cell_type": "code",
   "execution_count": 1,
   "id": "5a17f07e-e09c-4fba-9b41-87ffe1d7bfaa",
   "metadata": {
    "pycharm": {
     "name": "#%%\n"
    }
   },
   "outputs": [
    {
     "ename": "ModuleNotFoundError",
     "evalue": "No module named 'patchify'",
     "output_type": "error",
     "traceback": [
      "\u001b[0;31m---------------------------------------------------------------------------\u001b[0m",
      "\u001b[0;31mModuleNotFoundError\u001b[0m                       Traceback (most recent call last)",
      "Cell \u001b[0;32mIn[1], line 7\u001b[0m\n\u001b[1;32m      5\u001b[0m \u001b[38;5;28;01mimport\u001b[39;00m \u001b[38;5;21;01mvodex\u001b[39;00m \u001b[38;5;28;01mas\u001b[39;00m \u001b[38;5;21;01mvx\u001b[39;00m\n\u001b[1;32m      6\u001b[0m \u001b[38;5;28;01mimport\u001b[39;00m \u001b[38;5;21;01mnuman\u001b[39;00m \u001b[38;5;28;01mas\u001b[39;00m \u001b[38;5;21;01mnu\u001b[39;00m\n\u001b[0;32m----> 7\u001b[0m \u001b[38;5;28;01mfrom\u001b[39;00m \u001b[38;5;21;01mpatchify\u001b[39;00m \u001b[38;5;28;01mimport\u001b[39;00m patchify\n",
      "\u001b[0;31mModuleNotFoundError\u001b[0m: No module named 'patchify'"
     ]
    }
   ],
   "source": [
    "import numpy as np\n",
    "from PIL import Image\n",
    "import os\n",
    "\n",
    "import vodex as vx\n",
    "import numan as nu\n",
    "from patchify import patchify"
   ]
  },
  {
   "cell_type": "code",
   "execution_count": 6,
   "id": "bddc2f82",
   "metadata": {},
   "outputs": [],
   "source": [
    "class Voxelizer:\n",
    "    \n",
    "    def __init__(mask_file, superVoxel_size, roi_id):\n",
    "        self.SV_size = superVoxel_size\n",
    "        self.mask, self.bbox = self.load_mask(mask_file, roi_id)\n",
    "        self.roi_id = roi_id\n",
    "        self.SV_mask = self.get_mask_in_SV()\n",
    "        \n",
    "    def load_mask(mask_file, roi_id, SV_size):\n",
    "        im = Image.open(mask_file)\n",
    "        np_seg = np.array(im)\n",
    "        segmentation = np.where(np_seg == roi_id)\n",
    "        bbox = _get_bbox(segmentation, SV_size)\n",
    "        return segmentation, bbox\n",
    "    \n",
    "    def process_movie(experiment):\n",
    "        patches, normalization_voxels = _get_mask_in_SV()\n",
    "    \n",
    "    def _get_bbox(segmentation):\n",
    "        bbox = 0, 0, 0, 0, 0, 0\n",
    "        if len(segmentation) != 0 and len(segmentation[2]) != 0 and len(segmentation[1]) != 0 and len(segmentation[0]) != 0:\n",
    "            x_min = int(np.min(segmentation[1]))\n",
    "            x_max = int(np.max(segmentation[1]))\n",
    "            y_min = int(np.min(segmentation[0]))\n",
    "            y_max = int(np.max(segmentation[0]))\n",
    "            z_min = int(np.min(segmentation[2]))\n",
    "            z_max = int(np.max(segmentation[2]))\n",
    "            \n",
    "            # adjust bounding box to fit an exact number of super voxels\n",
    "            if self.SV_size != None:\n",
    "                if (x_max-x_min)%self.SV_size[0] != 0:\n",
    "                    xmax += self.SV_size[0]-((x_max-x_min)%self.SV_size[0])\n",
    "                if (y_max-y_min)%SV_size[1] != 0:\n",
    "                    ymax += self.SV_size[1]-((y_max-y_min)%self.SV_size[1])\n",
    "                if (z_max-z_min)%SV_size[2] != 0:\n",
    "                    zmax += self.SV_size[2]-((z_max-z_min)%self.SV_size[2])\n",
    "\n",
    "            bbox = x_min, x_max, y_min, y_max, z_min, z_max\n",
    "        else:\n",
    "            # Handle error case where segmentation image cannot be read or is empty\n",
    "            print(\"Error: Segmentation image could not be read or is empty.\")\n",
    "            \n",
    "        return bbox\n",
    "    \n",
    "    def _get_mask_in_SV():\n",
    "        patches = patchify(self.bbox, self.SV_size, step=1)\n",
    "        normalization_voxels = sum(self.mask(patches))\n",
    "        return patches, normalization_voxels\n",
    "    \n",
    "    def _load_batch():\n",
    "        return\n",
    "    \n",
    "    def _mask_by_boundingBox():\n",
    "        return\n",
    "        "
   ]
  },
  {
   "cell_type": "code",
   "execution_count": null,
   "id": "ca852572",
   "metadata": {},
   "outputs": [],
   "source": [
    "path = \"\"\n",
    "mask_file = \"\"\n",
    "superVoxel_size = [1,1,1]\n",
    "roi_id = [1,2,3,4]\n",
    "\n",
    "experiment = vx.Experiment.from_dir(path)\n",
    "\n",
    "voxelizer = Voxelizer(mask_file, superVoxel_size, roi_id)\n",
    "voxelizer.process_movie(experiment)"
   ]
  }
 ],
 "metadata": {
  "kernelspec": {
   "display_name": "numan",
   "language": "python",
   "name": "numan"
  },
  "language_info": {
   "codemirror_mode": {
    "name": "ipython",
    "version": 3
   },
   "file_extension": ".py",
   "mimetype": "text/x-python",
   "name": "python",
   "nbconvert_exporter": "python",
   "pygments_lexer": "ipython3",
   "version": "3.8.16"
  }
 },
 "nbformat": 4,
 "nbformat_minor": 5
}
