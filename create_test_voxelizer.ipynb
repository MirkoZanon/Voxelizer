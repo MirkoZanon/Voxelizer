{
 "cells": [
  {
   "cell_type": "code",
   "execution_count": 1,
   "metadata": {},
   "outputs": [],
   "source": [
    "import numpy as np\n",
    "import pandas as pd\n",
    "import os\n",
    "\n",
    "import tifffile as tif"
   ]
  },
  {
   "cell_type": "code",
   "execution_count": 2,
   "metadata": {},
   "outputs": [],
   "source": [
    "test_movie = np.zeros((20,10,10,10), dtype=np.int16)\n",
    "test_movie[:,0:2,3:5,2:4]=1\n",
    "test_movie[:,0:2,3:5,4:6]=10\n",
    "test_movie = test_movie*np.arange(20)[:,None,None,None]\n",
    "#print(test_movie)\n",
    "tif.imwrite('test_movie.tif', test_movie.astype(np.int16), shape=(20,10,10,10), \n",
    "            metadata={'axes': 'TZYX'}, imagej=True)"
   ]
  },
  {
   "cell_type": "code",
   "execution_count": 3,
   "metadata": {},
   "outputs": [],
   "source": [
    "test_mask = np.zeros((10,10,10), dtype=np.int16)\n",
    "test_mask[0:5,0:5,0:5]=1\n",
    "test_mask[5:,5:,5:]=2\n",
    "tif.imwrite('test_mask.tif', test_mask, imagej=True)"
   ]
  }
 ],
 "metadata": {
  "kernelspec": {
   "display_name": "voxelizer",
   "language": "python",
   "name": "voxelizer"
  },
  "language_info": {
   "codemirror_mode": {
    "name": "ipython",
    "version": 3
   },
   "file_extension": ".py",
   "mimetype": "text/x-python",
   "name": "python",
   "nbconvert_exporter": "python",
   "pygments_lexer": "ipython3",
   "version": "3.10.11"
  },
  "orig_nbformat": 4
 },
 "nbformat": 4,
 "nbformat_minor": 2
}
