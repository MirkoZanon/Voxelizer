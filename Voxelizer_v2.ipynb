{
 "cells": [
  {
   "cell_type": "code",
   "execution_count": 2,
   "metadata": {},
   "outputs": [],
   "source": [
    "import numpy as np\n",
    "import pandas as pd\n",
    "import os\n",
    "\n",
    "import vodex as vx\n",
    "import numan as nu\n",
    "import tifffile as tif\n",
    "from patchify import patchify, unpatchify\n",
    "\n",
    "from typing import Union, List, Optional, Tuple, Dict, Any\n",
    "import numpy.typing as npt"
   ]
  },
  {
   "cell_type": "code",
   "execution_count": 3,
   "metadata": {},
   "outputs": [],
   "source": [
    "test_movie = np.zeros((20,10,10,10), dtype=np.int16)\n",
    "test_movie[:,0:2,3:5,2:4]=1\n",
    "test_movie[:,0:2,3:5,4:6]=10\n",
    "test_movie = test_movie*np.arange(20)[:,None,None,None]\n",
    "#print(test_movie)\n",
    "tif.imwrite('test_movie.tif', test_movie.astype(np.int16), shape=(20,10,10,10), \n",
    "            metadata={'axes': 'TZYX'}, imagej=True)"
   ]
  },
  {
   "cell_type": "code",
   "execution_count": 4,
   "metadata": {},
   "outputs": [],
   "source": [
    "test_data = np.zeros((10,10,10), dtype=np.int16)\n",
    "test_data[0:5,0:5,0:5]=1\n",
    "test_data[5:,5:,5:]=2\n",
    "tif.imwrite('test_mask.tif', test_data, imagej=True)"
   ]
  },
  {
   "cell_type": "code",
   "execution_count": 101,
   "metadata": {},
   "outputs": [],
   "source": [
    "class Voxelizer:\n",
    "    \n",
    "    \"\"\"\n",
    "    Compute average signal value (of a 4D matrix of fluorescence imaging data: fluorescence intensity at t X z X y X x) across Super Voxels (3D voxels with user-defined size)\n",
    "    inside a ROI (user-defined mask -multiple ROIs can be provided by providing different integer IDs into the mask).\n",
    "    Note: the mask should have the same 3D dimentions as a dataset volume and consist of integer values corresponding to voxels of interest \n",
    "    for the different ROIs; the 3D Super Voxel size should be no bigger than the dataset volume. \n",
    "\n",
    "    Args:\n",
    "        mask_file: strig of a .tif file with the same 3D dimentions of the dataset volume and integer values correspondent to the voxels of the different ROIs\n",
    "        superVoxel_size: a 1x3 array [z,y,x] with the dimentions of the Super Voxel (group of voxels to be averaged and considered as single unit)\n",
    "        roi_id: an integer value correpsondent to the ROI to be analysed (to be patchified in SVs and compute its SV avg); this value is the \n",
    "            integer value of the voxels in mask_file correpsondent to the ROI of interest\n",
    "\n",
    "    Attributes:\n",
    "        SV_size: a 1x3 array [z,y,x] with the dimentions of the Super Voxel (group of voxels to be averaged and considered as single unit)\n",
    "        mask: an numpy array with the same 3D dimentions of the dataset volume with integer values correspondent to the voxels of the different ROIs\n",
    "        padded_mask: as mask but with dimentions zero-padded to fit a integer number of SVs\n",
    "        patched_mask: as padded_mask but structured in patches of SV dimentions\n",
    "        mask_SV: list of mask patches values correpsondent to the only ROI of interest\n",
    "        x_min,x_max,y_min,y_max,z_min,z_max: lists with the coordinates of mask_SV (corresponding to the elemnts in mask_SV)\n",
    "    \"\"\"\n",
    "    \n",
    "    def __init__(self, mask_file: str, superVoxel_size: npt.NDArray, roi_id: int):\n",
    "        self.SV_size = superVoxel_size # order: z,y,x\n",
    "        # define list with SV coordinates\n",
    "        self.mask_SV = []\n",
    "        self.x_min = [] \n",
    "        self.x_max = [] \n",
    "        self.y_min = [] \n",
    "        self.y_max = [] \n",
    "        self.z_min = []\n",
    "        self.z_max = []\n",
    "        # load multi-ROI mask from .tif\n",
    "        self.mask = self._load_mask(mask_file)\n",
    "        # zero pad the mask to fit an integer number of SVs\n",
    "        self.padded_mask = self._zero_pad_mask()\n",
    "        # patchify mask through SV\n",
    "        self.patched_mask = self._patchify_mask()\n",
    "        # extract patches related to a specific ROI\n",
    "        self._get_ROI_patches(roi_id)\n",
    "\n",
    "        \n",
    "    def process_movie(self, experiment: vx.Experiment, batch_size: int) -> npt.NDArray: #patchify in SV and calculated avg signal inside each SV\n",
    "        \n",
    "        \"\"\"\n",
    "        Calculate mean signal values inside SV within the ROI\n",
    "\n",
    "        Args:\n",
    "            experiment: Vodex Experiment object\n",
    "            batch_size: number of movie volumes (time points) to be loaded and process at a time\n",
    "\n",
    "        Returns:\n",
    "            voxel_table: table of all masked SV (in rows) means across time (in columns). \n",
    "            Note: the first 6 columns [0:5] aren't reporting avg signal but the x_min, x_max, y_min, y_max, z_min, z_max coordinates of the relative SV\n",
    "        \"\"\"\n",
    "        \n",
    "        self.SV_avg_matrix = np.zeros((len(self.mask_SV), experiment.n_volumes+6))\n",
    "        print(self.SV_avg_matrix.shape)\n",
    "        chuncks = experiment.batch_volumes(batch_size, full_only=True, overlap=0)\n",
    "        for i_patch in np.arange(len(self.mask_SV)):\n",
    "            self.SV_avg_matrix[i_patch, 0] = self.x_min[i_patch]\n",
    "            self.SV_avg_matrix[i_patch, 1] = self.x_max[i_patch]\n",
    "            self.SV_avg_matrix[i_patch, 2] = self.y_min[i_patch]\n",
    "            self.SV_avg_matrix[i_patch, 3] = self.y_max[i_patch]\n",
    "            self.SV_avg_matrix[i_patch, 4] = self.z_min[i_patch]\n",
    "            self.SV_avg_matrix[i_patch, 5] = self.z_max[i_patch]\n",
    "            vol_count = 0\n",
    "            for chunck in chuncks:\n",
    "                data = experiment.load_volumes(chunck, verbose=False)\n",
    "                # cut dataset around SV\n",
    "                a = data[:, self.z_min[i_patch]:self.z_max[i_patch], self.y_min[i_patch]:self.y_max[i_patch], self.x_min[i_patch]:self.x_max[i_patch]]\n",
    "                #print(a.shape)\n",
    "                # apply mask to SV\n",
    "                b = a*self.mask_SV[i_patch]\n",
    "                #print(b.shape)\n",
    "                # avg inside SV\n",
    "                c = np.sum(a, axis=(1,2,3))/np.sum(self.mask_SV[i_patch])\n",
    "                #print(c.shape)\n",
    "                self.SV_avg_matrix[i_patch,(vol_count+6):(vol_count+6+batch_size)] = c.T\n",
    "                vol_count += batch_size\n",
    "                \n",
    "                                                                                                      \n",
    "    def _load_mask(self, mask_file) -> npt.NDArray: \n",
    "        mask = tif.imread(mask_file)\n",
    "        return mask\n",
    "    \n",
    "    def _zero_pad_mask(self) -> npt.NDArray: \n",
    "        z_pad = (self.mask.shape[0]%self.SV_size[0], self.mask.shape[0]%self.SV_size[0])\n",
    "        y_pad = (self.mask.shape[1]%self.SV_size[1], self.mask.shape[1]%self.SV_size[1])\n",
    "        x_pad = (self.mask.shape[2]%self.SV_size[2], self.mask.shape[2]%self.SV_size[2])\n",
    "        padded = np.pad(self.mask, pad_width=[z_pad, y_pad, x_pad], mode='constant')\n",
    "        return padded\n",
    "    \n",
    "    def _patchify_mask(self) -> npt.NDArray:\n",
    "        patched = patchify(self.padded_mask, self.SV_size, step=self.SV_size)\n",
    "        return patched\n",
    "    \n",
    "    def _get_ROI_patches(self, roi_id: int):\n",
    "        self.mask_SV = []\n",
    "        self.x_min = [] \n",
    "        self.x_max = [] \n",
    "        self.y_min = [] \n",
    "        self.y_max = [] \n",
    "        self.z_min = []\n",
    "        self.z_max = []\n",
    "        for i_SV_z in np.arange(self.patched_mask.shape[0]):\n",
    "            for i_SV_y in np.arange(self.patched_mask.shape[1]):\n",
    "                for i_SV_x in np.arange(self.patched_mask.shape[2]):\n",
    "                    my_patch = self.patched_mask[i_SV_z, i_SV_y, i_SV_x, :, :, :] == roi_id\n",
    "                    #print('patch')\n",
    "                    if np.sum(my_patch) > 0:\n",
    "                        #print(my_patch)\n",
    "                        self.mask_SV.append(my_patch)\n",
    "                        self.x_min.append(i_SV_x*self.SV_size[2])\n",
    "                        self.x_max.append((i_SV_x+1)*self.SV_size[2]) #+1 ?\n",
    "                        self.y_min.append(i_SV_y*self.SV_size[1])\n",
    "                        self.y_max.append((i_SV_y+1)*self.SV_size[1]) #+1 ?\n",
    "                        self.z_min.append(i_SV_z*self.SV_size[0])\n",
    "                        self.z_max.append((i_SV_z+1)*self.SV_size[0]) #+1 ?"
   ]
  },
  {
   "attachments": {},
   "cell_type": "markdown",
   "metadata": {},
   "source": [
    "# Test"
   ]
  },
  {
   "cell_type": "code",
   "execution_count": 102,
   "metadata": {},
   "outputs": [],
   "source": [
    "movie_dir = \"test_movie\"\n",
    "mask_file = \"test_mask.tif\"\n",
    "superVoxel_size = [3,3,3] # order: z,y,x\n",
    "roi_id = 1 #select mask, the test checks fit mask 1, not 2\n",
    "n_vol_batch = 3\n",
    "\n",
    "frames_per_volume = 10\n",
    "starting_slice = 0\n",
    "experiment = vx.Experiment.from_dir(movie_dir, frames_per_volume, starting_slice, verbose=False)\n",
    "\n",
    "voxelizer = Voxelizer(mask_file, superVoxel_size, roi_id)\n",
    "#voxelizer.process_movie(experiment, n_vol_batch)\n",
    "#final_cell_matrix = voxelizer.create_cell_signal_table(experiment)"
   ]
  },
  {
   "cell_type": "code",
   "execution_count": 25,
   "metadata": {},
   "outputs": [
    {
     "name": "stdout",
     "output_type": "stream",
     "text": [
      "(10, 10, 10)\n"
     ]
    },
    {
     "data": {
      "text/plain": [
       "True"
      ]
     },
     "execution_count": 25,
     "metadata": {},
     "output_type": "execute_result"
    }
   ],
   "source": [
    "mask = voxelizer._load_mask(mask_file)\n",
    "print(mask.shape)\n",
    "np.sum(mask) == 5*5*5*1 + 5*5*5*2"
   ]
  },
  {
   "cell_type": "code",
   "execution_count": 29,
   "metadata": {},
   "outputs": [
    {
     "name": "stdout",
     "output_type": "stream",
     "text": [
      "(12, 12, 12)\n"
     ]
    },
    {
     "data": {
      "text/plain": [
       "True"
      ]
     },
     "execution_count": 29,
     "metadata": {},
     "output_type": "execute_result"
    }
   ],
   "source": [
    "padded_mask = voxelizer._zero_pad_mask()\n",
    "print(padded_mask.shape)\n",
    "# this works for SV of size [3,3,3]\n",
    "padded_mask.shape == (12,12,12)"
   ]
  },
  {
   "cell_type": "code",
   "execution_count": 52,
   "metadata": {},
   "outputs": [
    {
     "name": "stdout",
     "output_type": "stream",
     "text": [
      "(4, 4, 4, 3, 3, 3)\n"
     ]
    },
    {
     "data": {
      "text/plain": [
       "True"
      ]
     },
     "execution_count": 52,
     "metadata": {},
     "output_type": "execute_result"
    }
   ],
   "source": [
    "patched_mask = voxelizer._patchify_mask()\n",
    "print(patched_mask.shape)\n",
    "# this works for SV of size [3,3,3]\n",
    "patched_mask.shape == (4,4,4,3,3,3)"
   ]
  },
  {
   "cell_type": "code",
   "execution_count": 63,
   "metadata": {},
   "outputs": [
    {
     "data": {
      "text/plain": [
       "True"
      ]
     },
     "execution_count": 63,
     "metadata": {},
     "output_type": "execute_result"
    }
   ],
   "source": [
    "voxelizer._get_ROI_patches(1)\n",
    "len(voxelizer.mask_SV) == 8"
   ]
  },
  {
   "cell_type": "code",
   "execution_count": 108,
   "metadata": {},
   "outputs": [
    {
     "name": "stdout",
     "output_type": "stream",
     "text": [
      "(8, 26)\n",
      "    0    1    2    3    4    5    6         7         8     9   ...  \\\n",
      "0  0.0  3.0  0.0  3.0  0.0  3.0  0.0  0.000000  0.000000   0.0  ...   \n",
      "1  3.0  6.0  0.0  3.0  0.0  3.0  0.0  0.000000  0.000000   0.0  ...   \n",
      "2  0.0  3.0  3.0  6.0  0.0  3.0  0.0  0.333333  0.666667   1.0  ...   \n",
      "3  3.0  6.0  3.0  6.0  0.0  3.0  0.0  4.666667  9.333333  14.0  ...   \n",
      "4  0.0  3.0  0.0  3.0  3.0  6.0  0.0  0.000000  0.000000   0.0  ...   \n",
      "5  3.0  6.0  0.0  3.0  3.0  6.0  0.0  0.000000  0.000000   0.0  ...   \n",
      "6  0.0  3.0  3.0  6.0  3.0  6.0  0.0  0.000000  0.000000   0.0  ...   \n",
      "7  3.0  6.0  3.0  6.0  3.0  6.0  0.0  0.000000  0.000000   0.0  ...   \n",
      "\n",
      "          16         17    18         19         20    21         22  \\\n",
      "0   0.000000   0.000000   0.0   0.000000   0.000000   0.0   0.000000   \n",
      "1   0.000000   0.000000   0.0   0.000000   0.000000   0.0   0.000000   \n",
      "2   3.333333   3.666667   4.0   4.333333   4.666667   5.0   5.333333   \n",
      "3  46.666667  51.333333  56.0  60.666667  65.333333  70.0  74.666667   \n",
      "4   0.000000   0.000000   0.0   0.000000   0.000000   0.0   0.000000   \n",
      "5   0.000000   0.000000   0.0   0.000000   0.000000   0.0   0.000000   \n",
      "6   0.000000   0.000000   0.0   0.000000   0.000000   0.0   0.000000   \n",
      "7   0.000000   0.000000   0.0   0.000000   0.000000   0.0   0.000000   \n",
      "\n",
      "          23    24         25  \n",
      "0   0.000000   0.0   0.000000  \n",
      "1   0.000000   0.0   0.000000  \n",
      "2   5.666667   6.0   6.333333  \n",
      "3  79.333333  84.0  88.666667  \n",
      "4   0.000000   0.0   0.000000  \n",
      "5   0.000000   0.0   0.000000  \n",
      "6   0.000000   0.0   0.000000  \n",
      "7   0.000000   0.0   0.000000  \n",
      "\n",
      "[8 rows x 26 columns]\n"
     ]
    }
   ],
   "source": [
    "voxelizer.process_movie(experiment, 2)\n",
    "\n",
    "final_cell_df =  pd.DataFrame(voxelizer.SV_avg_matrix)\n",
    "print(final_cell_df)"
   ]
  }
 ],
 "metadata": {
  "kernelspec": {
   "display_name": "voxelizer",
   "language": "python",
   "name": "python3"
  },
  "language_info": {
   "codemirror_mode": {
    "name": "ipython",
    "version": 3
   },
   "file_extension": ".py",
   "mimetype": "text/x-python",
   "name": "python",
   "nbconvert_exporter": "python",
   "pygments_lexer": "ipython3",
   "version": "3.10.11"
  },
  "orig_nbformat": 4
 },
 "nbformat": 4,
 "nbformat_minor": 2
}
